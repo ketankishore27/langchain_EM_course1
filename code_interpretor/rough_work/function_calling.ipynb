{
 "cells": [
  {
   "cell_type": "code",
   "execution_count": 10,
   "id": "47da105d-a355-47a3-a06b-2b28d2ce3eae",
   "metadata": {},
   "outputs": [
    {
     "data": {
      "text/plain": [
       "True"
      ]
     },
     "execution_count": 10,
     "metadata": {},
     "output_type": "execute_result"
    }
   ],
   "source": [
    "from langchain_openai import ChatOpenAI\n",
    "from dotenv import load_dotenv\n",
    "from langchain_community.tools import TavilySearchResults\n",
    "from langchain_core.prompts.chat import ChatPromptTemplate\n",
    "from langchain.agents.tool_calling_agent.base import create_tool_calling_agent\n",
    "from langchain.agents.agent import AgentExecutor\n",
    "from langchain_core.tools import tool\n",
    "from langchain import hub\n",
    "load_dotenv(override=True)"
   ]
  },
  {
   "cell_type": "code",
   "execution_count": 2,
   "id": "8d0a1e1a-ff46-46a9-8674-324f9a024d73",
   "metadata": {},
   "outputs": [],
   "source": [
    "@tool\n",
    "def multiply(a: float, b: float) -> float:\n",
    "    \"\"\"\n",
    "    Helps in multiplying two numbers\n",
    "    \"\"\"\n",
    "    return a * b"
   ]
  },
  {
   "cell_type": "code",
   "execution_count": 3,
   "id": "741d6b50-9629-472f-8baa-1061ae6b769b",
   "metadata": {},
   "outputs": [],
   "source": [
    "tools = [TavilySearchResults(), multiply]"
   ]
  },
  {
   "cell_type": "code",
   "execution_count": 22,
   "id": "77723704-991b-4680-af2a-c66da98f75af",
   "metadata": {},
   "outputs": [],
   "source": [
    "prompt = hub.pull(\"langchain-ai/react-agent-template\").partial(instructions = \"\", \n",
    "                                                               tools = tools, \n",
    "                                                               tool_names = \", \".join([i.name for i in tools]))"
   ]
  },
  {
   "cell_type": "code",
   "execution_count": 23,
   "id": "e4e1c6b8-7a75-42ec-a9fc-bae2df774447",
   "metadata": {},
   "outputs": [
    {
     "name": "stdout",
     "output_type": "stream",
     "text": [
      "{instructions}\n",
      "\n",
      "TOOLS:\n",
      "------\n",
      "\n",
      "You have access to the following tools:\n",
      "\n",
      "{tools}\n",
      "\n",
      "To use a tool, please use the following format:\n",
      "\n",
      "```\n",
      "Thought: Do I need to use a tool? Yes\n",
      "Action: the action to take, should be one of [{tool_names}]\n",
      "Action Input: the input to the action\n",
      "Observation: the result of the action\n",
      "```\n",
      "\n",
      "When you have a response to say to the Human, or if you do not need to use a tool, you MUST use the format:\n",
      "\n",
      "```\n",
      "Thought: Do I need to use a tool? No\n",
      "Final Answer: [your response here]\n",
      "```\n",
      "\n",
      "Begin!\n",
      "\n",
      "Previous conversation history:\n",
      "{chat_history}\n",
      "\n",
      "New input: {input}\n",
      "{agent_scratchpad}\n"
     ]
    }
   ],
   "source": [
    "print(prompt.template)"
   ]
  },
  {
   "cell_type": "code",
   "execution_count": 4,
   "id": "11b47582-96f3-4338-929f-3080ff586026",
   "metadata": {},
   "outputs": [],
   "source": [
    "prompt = ChatPromptTemplate.from_messages(\n",
    "    [\n",
    "        (\"system\", \"You are a helpful assistant\"),\n",
    "        (\"human\", \"{input}\"),\n",
    "        (\"placeholder\", \"{agent_scratchpad}\")\n",
    "    ]\n",
    ")"
   ]
  },
  {
   "cell_type": "code",
   "execution_count": 24,
   "id": "d799bf6f-88b8-46fc-b5dd-4e00e206da80",
   "metadata": {},
   "outputs": [],
   "source": [
    "agent = create_tool_calling_agent(llm = ChatOpenAI(model = \"gpt-4o-mini\"), \n",
    "                                  tools= tools, \n",
    "                                  prompt = prompt)"
   ]
  },
  {
   "cell_type": "code",
   "execution_count": 25,
   "id": "762ac29c-4234-489a-8cb8-9ea46d4eb456",
   "metadata": {},
   "outputs": [],
   "source": [
    "agent_executor = AgentExecutor(agent = agent, tools = tools, verbose = True)"
   ]
  },
  {
   "cell_type": "code",
   "execution_count": 26,
   "id": "5e9b941b-c9fd-44a1-934d-5b82b5e2928b",
   "metadata": {},
   "outputs": [
    {
     "name": "stdout",
     "output_type": "stream",
     "text": [
      "\n",
      "\n",
      "\u001b[1m> Entering new AgentExecutor chain...\u001b[0m\n",
      "\u001b[32;1m\u001b[1;3m\n",
      "Invoking: `multiply` with `{'a': 2, 'b': 3}`\n",
      "\n",
      "\n",
      "\u001b[0m\u001b[33;1m\u001b[1;3m6.0\u001b[0m\u001b[32;1m\u001b[1;3m```\n",
      "Thought: Do I need to use a tool? No\n",
      "Final Answer: The result of multiplying 2 and 3 is 6.\n",
      "```\u001b[0m\n",
      "\n",
      "\u001b[1m> Finished chain.\u001b[0m\n"
     ]
    },
    {
     "data": {
      "text/plain": [
       "{'input': 'Multiply 2 and 3',\n",
       " 'chat_history': [],\n",
       " 'output': '```\\nThought: Do I need to use a tool? No\\nFinal Answer: The result of multiplying 2 and 3 is 6.\\n```'}"
      ]
     },
     "execution_count": 26,
     "metadata": {},
     "output_type": "execute_result"
    }
   ],
   "source": [
    "agent_executor.invoke({\n",
    "    \"input\": \"Multiply 2 and 3\",\n",
    "    \"chat_history\": []\n",
    "})"
   ]
  },
  {
   "cell_type": "code",
   "execution_count": 27,
   "id": "46c7bc29-bf3e-4c3d-b5d0-48b329034873",
   "metadata": {
    "scrolled": true
   },
   "outputs": [
    {
     "name": "stdout",
     "output_type": "stream",
     "text": [
      "\n",
      "\n",
      "\u001b[1m> Entering new AgentExecutor chain...\u001b[0m\n",
      "\u001b[32;1m\u001b[1;3m\n",
      "Invoking: `tavily_search_results_json` with `{'query': 'Mumbai weather update'}`\n",
      "\n",
      "\n",
      "\u001b[0m\u001b[36;1m\u001b[1;3m[{'title': 'Rainy Weekend For Mumbai: Heavy Rains Likely - Skymet Weather', 'url': 'https://www.skymetweather.com/content/weather-news-and-analysis/rainy-weekend-for-mumbai-heavy-rains-likely', 'content': '11 जून के बाद फिर से बारिश की उम्मीद है, जिससे राहत और मानसून की प्रगति संभव है। posted on: 11/06/2025 · thumbnail image. Uttar Pradesh Weather Update: Hot and Dry', 'score': 0.86080295}, {'title': 'Mumbai Weather Today (Wednesday, Jun 11, 2025)', 'url': 'https://www.indiatoday.in/weather/mumbai-weather-forecast-today', 'content': '![humdity]( https://cf-img-a-in.tosshub.com/sites/weather/resources/image/humidity.svg)\\n![pressure](https://cf-img-a-in.tosshub.com/sites/weather/resources/image/pressure.svg)\\n![lon]( https://cf-img-a-in.tosshub.com/sites/weather/resources/image/lon.svg)\\n![lat]( https://cf-img-a-in.tosshub.com/sites/weather/resources/image/lat.svg)\\n![speed](https://cf-img-a-in.tosshub.com/sites/weather/resources/image/speed.svg)\\n![deg](https://cf-img-a-in.tosshub.com/sites/weather/resources/image/deg.svg) [...] ![gust](https://cf-img-a-in.tosshub.com/sites/weather/resources/image/gust.svg)\\n![Rain](https://cf-img-a-in.tosshub.com/sites/weather/resources/image/svg/10d.png)\\n![Rain](https://cf-img-a-in.tosshub.com/sites/weather/resources/image/svg/10d.png)\\n![Rain](https://cf-img-a-in.tosshub.com/sites/weather/resources/image/svg/10d.png)\\n![Rain](https://cf-img-a-in.tosshub.com/sites/weather/resources/image/svg/10d.png)\\n![Rain](https://cf-img-a-in.tosshub.com/sites/weather/resources/image/svg/10d.png) [...] ![Weather Icon](https://cf-img-a-in.tosshub.com/sites/weather/resources/image/svg/10d.png)\\n![min](https://cf-img-a-in.tosshub.com/sites/weather/resources/image/temp_min.svg)\\n![max](https://cf-img-a-in.tosshub.com/sites/weather/resources/image/temp_max.svg)\\n![rise](https://cf-img-a-in.tosshub.com/sites/weather/resources/image/sunrise.svg)\\n![set](https://cf-img-a-in.tosshub.com/sites/weather/resources/image/sunset.svg)', 'score': 0.8539252}, {'title': 'Mumbai Weather Forecast 11 Jun 2025 - Times of India', 'url': 'https://timesofindia.indiatimes.com/weather/mumbai-weather-forecast-today/400070', 'content': '![](https://static.toiimg.com/photo/79638690.cms)\\n\\n## [TOI](https://timesofindia.indiatimes.com \"News\")\\n\\n# Mumbai Weather Forecast 11 Jun 2025 [...] ![](https://www.facebook.com/tr?id=593671331875494&ev=PageView&noscript=1) [...] ![114111865](https://static.toiimg.com/photo/114111865.cms)\\n![114111880](https://static.toiimg.com/photo/114111880.cms)\\n![114111880](https://static.toiimg.com/photo/114111880.cms)\\n![114111808](https://static.toiimg.com/photo/114111808.cms)\\n![114111895](https://static.toiimg.com/photo/114111895.cms)\\n![114111895](https://static.toiimg.com/photo/114111895.cms)\\n![114111897](https://static.toiimg.com/photo/114111897.cms)\\n![114111823](https://static.toiimg.com/photo/114111823.cms)', 'score': 0.79293}, {'title': 'ZEE 24 Kalak Headlines @ 5 PM: 11/6/2025 | Weather Forecast', 'url': 'https://www.youtube.com/watch?v=55sWeWP_nAI', 'content': 'ZEE 24 Kalak Headlines @ 5 PM: 11/6/2025 | Weather Forecast | Monsoon 2025 | COVID19 Updates ... Mumbai Airport पर बैग से निकले 48 जहरीले सांप', 'score': 0.7576693}, {'title': 'Mumbai weather in June 2025 - Weather25.com', 'url': 'https://www.weather25.com/asia/india/maharashtra/mumbai?page=month&month=June', 'content': 'Ok\\n\\n | [Mumbai in November](https://www.weather25.com/asia/india/maharashtra/mumbai?page=month&month=November) |\\n| December | **89°** / 75° | 0 | 31 | 0 | 0.31 in | \\n\\nGood\\n\\n | [Mumbai in December](https://www.weather25.com/asia/india/maharashtra/mumbai?page=month&month=December) |\\n\\nTemperatures in Mumbai in June\\n\\nRain in Mumbai in June\\n\\nWeather in Mumbai in June - FAQ\\n-------------------------------\\n\\nWhat is the average temperature in Mumbai in June?', 'score': 0.7244226}]\u001b[0m\u001b[32;1m\u001b[1;3m\n",
      "Invoking: `tavily_search_results_json` with `{'query': 'New York weather update'}`\n",
      "\n",
      "\n",
      "\u001b[0m\u001b[36;1m\u001b[1;3m[{'title': 'Wednesday, June 11, 2025. New York, NY - Weather Forecast', 'url': 'https://weathershogun.com/weather/usa/ny/new-york/3284/june/2025-06-11', 'content': \"Overexposure to the sun's harmful UV rays can cause sunburn and increase the risk of developing skin cancer, including melanoma. Protect yourself by wearing clothing that covers your skin, sunglasses, and a hat. Apply a broad-spectrum sunscreen with an SPF of 30 or higher every two hours, even on cloudy days. Minimize direct sun exposure during peak hours (10 AM to 4 PM) to reduce the risk.\\n\\nNew York Weather Forecast Updated\\n================================= [...] Please note that while we strive for accuracy, the information provided may not always be correct. Use at your own risk.\\n\\n© Copyright by WeatherShogun.com [...] New York, NY - Weather Forecast Today \\n\\n===============\\n\\n☰\\n\\n[New York, NY](https://weathershogun.com/weather/usa/ny/new-york/today/3284)\\n\\n[![Image 1: WeatherShogun.com](https://weathershogun.com/img/logo.svg)](https://weathershogun.com/)\\n\\n[Home](https://weathershogun.com/)[Contact](https://weathershogun.com/contact)[Browse States](https://weathershogun.com/weather/usa/)[Privacy Policy](https://weathershogun.com/privacy)[Terms and Conditions](https://weathershogun.com/terms)\", 'score': 0.8742601}, {'title': 'New York, NY - National Weather Service', 'url': 'https://www.weather.gov/okx/', 'content': 'Click a location below for detailed forecast.\\n\\nLast Map Update: Wed, Jun 11, 2025 at 1:16:36 am EDT\\n\\n[Watches, Warnings & Advisories](https://www.weather.gov/wwamap/wwatxtget.php?cwa=okx&wwa=all)\\n\\n[![Image 6: National Weather Service Binghamton, NY](https://www.weather.gov/bundles/templating/images/wwamap/nw.gif)](https://www.weather.gov/bgm)\\n\\n[![Image 7: National Weather Service Albany, NY](https://www.weather.gov/bundles/templating/images/wwamap/n.gif)](https://www.weather.gov/aly) [...] *   [Satellite](https://www.star.nesdis.noaa.gov/GOES/index.php)\\n    *   [Rainfall](https://water.noaa.gov/#@=-73.2697176,41.0899062,8.3915664&b=topographic&g=obsFcst,0!0!0!0!0!0!0!0!0!0!0!0!0!0!0!0!0!0!0!0,0.5,1!1!1!1!0,0,0&ab=0,0,#D94B4A,1,1,1,#000000,1,0,0,#000000,1,0,0,#98E09A,1&a=hide,0.35&s=0,0,0.9,0.9&n=false,#72afe9,0.9,0,0.9,0,0.9&p=true,0.75,0,6,-1,1,-1,-1,-1,1&d=0,0,1,1,1,1,1,1,#006EFF,1,#006EFF,1,#006EFF,1,#006EFF,1,#006EFF&q=wfo%3Aokx)', 'score': 0.82895297}, {'title': 'New York, NY Monthly Weather - AccuWeather', 'url': 'https://www.accuweather.com/en/us/new-york/10021/june-weather/349727', 'content': '11](https://cms.accuweather.com/wp-content/uploads/2025/06/cnn-L19jb21wb25lbnRzL2ltYWdlL2luc3RhbmNlcy9jbWJqdHd0MTkwMDFzMzU2bXdlYzk5N2pz-L19jb21wb25lbnRzL2FydGljbGUvaW5zdGFuY2VzL2NtYmp0ZXE5bjAwM3AyNnFxaGN5azZ1Z3I.jpg?w=64&h=64&crop=1)](https://www.accuweather.com/en/space-news/a-surprising-study-found-hints-of-biological-activity-on-a-distant-planet-now-scientists-say-theres-more-to-the-story/1782770) [...] .com/en/us/new-york/10021/november-weather/349727?year=2025)[December](https://www.accuweather.com/en/us/new-york/10021/december-weather/349727?year=2025) [...] 4](https://cms.accuweather.com/wp-content/uploads/2025/06/GettyImages-1241317644.jpg?w=64&h=64&crop=1)](https://www.accuweather.com/en/space-news/tonight-strawberry-moon-to-delight-stargazers-ahead-of-summer-solstice/1781968)[Weather Forecasts Warm, drier stretch of weather coming to the Northeast 11 hours ago ![Image', 'score': 0.6461259}, {'title': 'Past Weather in New York, New York, USA — Yesterday or Further ...', 'url': 'https://www.timeanddate.com/weather/usa/new-york/historic', 'content': '| 10:51 pm | ![Image 6: Mostly cloudy.](https://c.tadst.com/gfx/w/svg/wt-17.svg) | 63°F | Low clouds. | 3 mph | ↑ | 87% | 29.90 \"Hg | 8 mi |\\n| 9:51 pm | ![Image 7: Fog.](https://c.tadst.com/gfx/w/svg/wt-14.svg) | 63°F | Fog. | 5 mph | ↑ | 87% | 29.90 \"Hg | 5 mi |\\n| 8:51 pm | ![Image 8: Fog.](https://c.tadst.com/gfx/w/svg/wt-9.svg) | 63°F | Fog. | No wind | ↑ | 87% | 29.90 \"Hg | 6 mi | [...] | 2:06 pm | ![Image 15: Fog.](https://c.tadst.com/gfx/w/svg/wt-9.svg) | 63°F | Fog. | 5 mph | ↑ | 87% | 29.93 \"Hg | 4 mi |\\n| 1:38 pm | ![Image 16: Overcast.](https://c.tadst.com/gfx/w/svg/wt-7.svg) | 63°F | Low clouds. | 5 mph | ↑ | 84% | 29.94 \"Hg | 2 mi |\\n| 1:19 pm | ![Image 17: Overcast.](https://c.tadst.com/gfx/w/svg/wt-7.svg) | 63°F | Overcast. | 6 mph | ↑ | 84% | 29.95 \"Hg | 7 mi | [...] | 7:51 pm | ![Image 9: Overcast.](https://c.tadst.com/gfx/w/svg/wt-7.svg) | 63°F | Low clouds. | 3 mph | ↑ | 87% | 29.89 \"Hg | 8 mi |\\n| 6:51 pm | ![Image 10: Fog.](https://c.tadst.com/gfx/w/svg/wt-9.svg) | 63°F | Fog. | 5 mph | ↑ | 87% | 29.86 \"Hg | 6 mi |\\n| 5:51 pm | ![Image 11: Overcast.](https://c.tadst.com/gfx/w/svg/wt-7.svg) | 64°F | Low clouds. | 3 mph | ↑ | 84% | 29.87 \"Hg | 8 mi |', 'score': 0.54985875}, {'title': 'New York weather in June 2025 - Weather25.com', 'url': 'https://www.weather25.com/north-america/usa/new-york?page=month&month=June', 'content': 'November](https://www.weather25.com/north-america/usa/new-york?page=month&month=November)[12 December](https://www.weather25.com/north-america/usa/new-york?page=month&month=December) [...] 32°/21°](https://www.weather25.com/north-america/usa/new-york?page=day#date=2025-06-12 \"Weather in 12 june 2025\") | [13 ![Image 40: Cloudy](https://res.weather25.com/images/weather_icons/new/day/cloud.svg) 27°/14°](https://www.weather25.com/north-america/usa/new-york?page=day#date=2025-06-13 \"Weather in 13 june 2025\") | [14 ![Image 41: Overcast](https://res.weather25.com/images/weather_icons/new/day/overcast.svg)', 'score': 0.51383984}]\u001b[0m\u001b[32;1m\u001b[1;3m\n",
      "Invoking: `tavily_search_results_json` with `{'query': 'Mumbai weather update'}`\n",
      "\n",
      "\n",
      "\u001b[0m\u001b[36;1m\u001b[1;3m[{'title': 'Rainy Weekend For Mumbai: Heavy Rains Likely - Skymet Weather', 'url': 'https://www.skymetweather.com/content/weather-news-and-analysis/rainy-weekend-for-mumbai-heavy-rains-likely', 'content': '11 जून के बाद फिर से बारिश की उम्मीद है, जिससे राहत और मानसून की प्रगति संभव है। posted on: 11/06/2025 · thumbnail image. Uttar Pradesh Weather Update: Hot and Dry', 'score': 0.86080295}, {'title': 'Mumbai Weather Today (Wednesday, Jun 11, 2025)', 'url': 'https://www.indiatoday.in/weather/mumbai-weather-forecast-today', 'content': '![humdity]( https://cf-img-a-in.tosshub.com/sites/weather/resources/image/humidity.svg)\\n![pressure](https://cf-img-a-in.tosshub.com/sites/weather/resources/image/pressure.svg)\\n![lon]( https://cf-img-a-in.tosshub.com/sites/weather/resources/image/lon.svg)\\n![lat]( https://cf-img-a-in.tosshub.com/sites/weather/resources/image/lat.svg)\\n![speed](https://cf-img-a-in.tosshub.com/sites/weather/resources/image/speed.svg)\\n![deg](https://cf-img-a-in.tosshub.com/sites/weather/resources/image/deg.svg) [...] ![gust](https://cf-img-a-in.tosshub.com/sites/weather/resources/image/gust.svg)\\n![Rain](https://cf-img-a-in.tosshub.com/sites/weather/resources/image/svg/10d.png)\\n![Rain](https://cf-img-a-in.tosshub.com/sites/weather/resources/image/svg/10d.png)\\n![Rain](https://cf-img-a-in.tosshub.com/sites/weather/resources/image/svg/10d.png)\\n![Rain](https://cf-img-a-in.tosshub.com/sites/weather/resources/image/svg/10d.png)\\n![Rain](https://cf-img-a-in.tosshub.com/sites/weather/resources/image/svg/10d.png) [...] ![Weather Icon](https://cf-img-a-in.tosshub.com/sites/weather/resources/image/svg/10d.png)\\n![min](https://cf-img-a-in.tosshub.com/sites/weather/resources/image/temp_min.svg)\\n![max](https://cf-img-a-in.tosshub.com/sites/weather/resources/image/temp_max.svg)\\n![rise](https://cf-img-a-in.tosshub.com/sites/weather/resources/image/sunrise.svg)\\n![set](https://cf-img-a-in.tosshub.com/sites/weather/resources/image/sunset.svg)', 'score': 0.8539252}, {'title': 'Mumbai Weather Forecast 11 Jun 2025 - Times of India', 'url': 'https://timesofindia.indiatimes.com/weather/mumbai-weather-forecast-today/400070', 'content': '![](https://static.toiimg.com/photo/79638690.cms)\\n\\n## [TOI](https://timesofindia.indiatimes.com \"News\")\\n\\n# Mumbai Weather Forecast 11 Jun 2025 [...] ![](https://www.facebook.com/tr?id=593671331875494&ev=PageView&noscript=1) [...] ![114111865](https://static.toiimg.com/photo/114111865.cms)\\n![114111880](https://static.toiimg.com/photo/114111880.cms)\\n![114111880](https://static.toiimg.com/photo/114111880.cms)\\n![114111808](https://static.toiimg.com/photo/114111808.cms)\\n![114111895](https://static.toiimg.com/photo/114111895.cms)\\n![114111895](https://static.toiimg.com/photo/114111895.cms)\\n![114111897](https://static.toiimg.com/photo/114111897.cms)\\n![114111823](https://static.toiimg.com/photo/114111823.cms)', 'score': 0.79293}, {'title': 'ZEE 24 Kalak Headlines @ 5 PM: 11/6/2025 | Weather Forecast', 'url': 'https://www.youtube.com/watch?v=55sWeWP_nAI', 'content': 'ZEE 24 Kalak Headlines @ 5 PM: 11/6/2025 | Weather Forecast | Monsoon 2025 | COVID19 Updates ... Mumbai Airport पर बैग से निकले 48 जहरीले सांप', 'score': 0.7576693}, {'title': 'Mumbai weather in June 2025 - Weather25.com', 'url': 'https://www.weather25.com/asia/india/maharashtra/mumbai?page=month&month=June', 'content': 'Ok\\n\\n | [Mumbai in November](https://www.weather25.com/asia/india/maharashtra/mumbai?page=month&month=November) |\\n| December | **89°** / 75° | 0 | 31 | 0 | 0.31 in | \\n\\nGood\\n\\n | [Mumbai in December](https://www.weather25.com/asia/india/maharashtra/mumbai?page=month&month=December) |\\n\\nTemperatures in Mumbai in June\\n\\nRain in Mumbai in June\\n\\nWeather in Mumbai in June - FAQ\\n-------------------------------\\n\\nWhat is the average temperature in Mumbai in June?', 'score': 0.7244226}]\u001b[0m\u001b[32;1m\u001b[1;3m\n",
      "Invoking: `tavily_search_results_json` with `{'query': 'New York weather update'}`\n",
      "\n",
      "\n",
      "\u001b[0m\u001b[36;1m\u001b[1;3m[{'title': 'Wednesday, June 11, 2025. New York, NY - Weather Forecast', 'url': 'https://weathershogun.com/weather/usa/ny/new-york/3284/june/2025-06-11', 'content': \"Overexposure to the sun's harmful UV rays can cause sunburn and increase the risk of developing skin cancer, including melanoma. Protect yourself by wearing clothing that covers your skin, sunglasses, and a hat. Apply a broad-spectrum sunscreen with an SPF of 30 or higher every two hours, even on cloudy days. Minimize direct sun exposure during peak hours (10 AM to 4 PM) to reduce the risk.\\n\\nNew York Weather Forecast Updated\\n================================= [...] Please note that while we strive for accuracy, the information provided may not always be correct. Use at your own risk.\\n\\n© Copyright by WeatherShogun.com [...] New York, NY - Weather Forecast Today \\n\\n===============\\n\\n☰\\n\\n[New York, NY](https://weathershogun.com/weather/usa/ny/new-york/today/3284)\\n\\n[![Image 1: WeatherShogun.com](https://weathershogun.com/img/logo.svg)](https://weathershogun.com/)\\n\\n[Home](https://weathershogun.com/)[Contact](https://weathershogun.com/contact)[Browse States](https://weathershogun.com/weather/usa/)[Privacy Policy](https://weathershogun.com/privacy)[Terms and Conditions](https://weathershogun.com/terms)\", 'score': 0.8742601}, {'title': 'New York, NY - National Weather Service', 'url': 'https://www.weather.gov/okx/', 'content': 'Click a location below for detailed forecast.\\n\\nLast Map Update: Wed, Jun 11, 2025 at 1:16:36 am EDT\\n\\n[Watches, Warnings & Advisories](https://www.weather.gov/wwamap/wwatxtget.php?cwa=okx&wwa=all)\\n\\n[![Image 6: National Weather Service Binghamton, NY](https://www.weather.gov/bundles/templating/images/wwamap/nw.gif)](https://www.weather.gov/bgm)\\n\\n[![Image 7: National Weather Service Albany, NY](https://www.weather.gov/bundles/templating/images/wwamap/n.gif)](https://www.weather.gov/aly) [...] *   [Satellite](https://www.star.nesdis.noaa.gov/GOES/index.php)\\n    *   [Rainfall](https://water.noaa.gov/#@=-73.2697176,41.0899062,8.3915664&b=topographic&g=obsFcst,0!0!0!0!0!0!0!0!0!0!0!0!0!0!0!0!0!0!0!0,0.5,1!1!1!1!0,0,0&ab=0,0,#D94B4A,1,1,1,#000000,1,0,0,#000000,1,0,0,#98E09A,1&a=hide,0.35&s=0,0,0.9,0.9&n=false,#72afe9,0.9,0,0.9,0,0.9&p=true,0.75,0,6,-1,1,-1,-1,-1,1&d=0,0,1,1,1,1,1,1,#006EFF,1,#006EFF,1,#006EFF,1,#006EFF,1,#006EFF&q=wfo%3Aokx)', 'score': 0.82895297}, {'title': 'New York, NY Monthly Weather - AccuWeather', 'url': 'https://www.accuweather.com/en/us/new-york/10021/june-weather/349727', 'content': '11](https://cms.accuweather.com/wp-content/uploads/2025/06/cnn-L19jb21wb25lbnRzL2ltYWdlL2luc3RhbmNlcy9jbWJqdHd0MTkwMDFzMzU2bXdlYzk5N2pz-L19jb21wb25lbnRzL2FydGljbGUvaW5zdGFuY2VzL2NtYmp0ZXE5bjAwM3AyNnFxaGN5azZ1Z3I.jpg?w=64&h=64&crop=1)](https://www.accuweather.com/en/space-news/a-surprising-study-found-hints-of-biological-activity-on-a-distant-planet-now-scientists-say-theres-more-to-the-story/1782770) [...] .com/en/us/new-york/10021/november-weather/349727?year=2025)[December](https://www.accuweather.com/en/us/new-york/10021/december-weather/349727?year=2025) [...] 4](https://cms.accuweather.com/wp-content/uploads/2025/06/GettyImages-1241317644.jpg?w=64&h=64&crop=1)](https://www.accuweather.com/en/space-news/tonight-strawberry-moon-to-delight-stargazers-ahead-of-summer-solstice/1781968)[Weather Forecasts Warm, drier stretch of weather coming to the Northeast 11 hours ago ![Image', 'score': 0.6461259}, {'title': 'Past Weather in New York, New York, USA — Yesterday or Further ...', 'url': 'https://www.timeanddate.com/weather/usa/new-york/historic', 'content': '| 10:51 pm | ![Image 6: Mostly cloudy.](https://c.tadst.com/gfx/w/svg/wt-17.svg) | 63°F | Low clouds. | 3 mph | ↑ | 87% | 29.90 \"Hg | 8 mi |\\n| 9:51 pm | ![Image 7: Fog.](https://c.tadst.com/gfx/w/svg/wt-14.svg) | 63°F | Fog. | 5 mph | ↑ | 87% | 29.90 \"Hg | 5 mi |\\n| 8:51 pm | ![Image 8: Fog.](https://c.tadst.com/gfx/w/svg/wt-9.svg) | 63°F | Fog. | No wind | ↑ | 87% | 29.90 \"Hg | 6 mi | [...] | 2:06 pm | ![Image 15: Fog.](https://c.tadst.com/gfx/w/svg/wt-9.svg) | 63°F | Fog. | 5 mph | ↑ | 87% | 29.93 \"Hg | 4 mi |\\n| 1:38 pm | ![Image 16: Overcast.](https://c.tadst.com/gfx/w/svg/wt-7.svg) | 63°F | Low clouds. | 5 mph | ↑ | 84% | 29.94 \"Hg | 2 mi |\\n| 1:19 pm | ![Image 17: Overcast.](https://c.tadst.com/gfx/w/svg/wt-7.svg) | 63°F | Overcast. | 6 mph | ↑ | 84% | 29.95 \"Hg | 7 mi | [...] | 7:51 pm | ![Image 9: Overcast.](https://c.tadst.com/gfx/w/svg/wt-7.svg) | 63°F | Low clouds. | 3 mph | ↑ | 87% | 29.89 \"Hg | 8 mi |\\n| 6:51 pm | ![Image 10: Fog.](https://c.tadst.com/gfx/w/svg/wt-9.svg) | 63°F | Fog. | 5 mph | ↑ | 87% | 29.86 \"Hg | 6 mi |\\n| 5:51 pm | ![Image 11: Overcast.](https://c.tadst.com/gfx/w/svg/wt-7.svg) | 64°F | Low clouds. | 3 mph | ↑ | 84% | 29.87 \"Hg | 8 mi |', 'score': 0.54985875}, {'title': 'New York weather in June 2025 - Weather25.com', 'url': 'https://www.weather25.com/north-america/usa/new-york?page=month&month=June', 'content': 'November](https://www.weather25.com/north-america/usa/new-york?page=month&month=November)[12 December](https://www.weather25.com/north-america/usa/new-york?page=month&month=December) [...] 32°/21°](https://www.weather25.com/north-america/usa/new-york?page=day#date=2025-06-12 \"Weather in 12 june 2025\") | [13 ![Image 40: Cloudy](https://res.weather25.com/images/weather_icons/new/day/cloud.svg) 27°/14°](https://www.weather25.com/north-america/usa/new-york?page=day#date=2025-06-13 \"Weather in 13 june 2025\") | [14 ![Image 41: Overcast](https://res.weather25.com/images/weather_icons/new/day/overcast.svg)', 'score': 0.51383984}]\u001b[0m\u001b[32;1m\u001b[1;3m```\n",
      "Thought: Do I need to use a tool? No\n",
      "Final Answer: Here are the weather updates:\n",
      "\n",
      "**Mumbai:**\n",
      "- Heavy rains are likely this weekend, and rain is expected after June 11, which may provide relief and indicate the progression of the monsoon.\n",
      "  - [Read more here](https://www.skymetweather.com/content/weather-news-and-analysis/rainy-weekend-for-mumbai-heavy-rains-likely)\n",
      "\n",
      "- Today's weather forecast shows conditions with high humidity, and the city's temperatures are expected to fluctuate.\n",
      "  - [More details](https://www.indiatoday.in/weather/mumbai-weather-forecast-today)\n",
      "  \n",
      "**New York:**\n",
      "- New York is experiencing a warm and dry pattern, with precautions advised against overexposure to the sun.\n",
      "  - [Forecast updated here](https://weathershogun.com/weather/usa/ny/new-york/3284/june/2025-06-11)\n",
      "\n",
      "- Current temperatures in New York are around 63°F with overcast conditions and light fog.\n",
      "  - [Check the latest updates](https://www.weather.gov/okx/)\n",
      "```\u001b[0m\n",
      "\n",
      "\u001b[1m> Finished chain.\u001b[0m\n"
     ]
    },
    {
     "data": {
      "text/plain": [
       "{'input': 'Give me the weather update of Mumbai and New York',\n",
       " 'output': \"```\\nThought: Do I need to use a tool? No\\nFinal Answer: Here are the weather updates:\\n\\n**Mumbai:**\\n- Heavy rains are likely this weekend, and rain is expected after June 11, which may provide relief and indicate the progression of the monsoon.\\n  - [Read more here](https://www.skymetweather.com/content/weather-news-and-analysis/rainy-weekend-for-mumbai-heavy-rains-likely)\\n\\n- Today's weather forecast shows conditions with high humidity, and the city's temperatures are expected to fluctuate.\\n  - [More details](https://www.indiatoday.in/weather/mumbai-weather-forecast-today)\\n  \\n**New York:**\\n- New York is experiencing a warm and dry pattern, with precautions advised against overexposure to the sun.\\n  - [Forecast updated here](https://weathershogun.com/weather/usa/ny/new-york/3284/june/2025-06-11)\\n\\n- Current temperatures in New York are around 63°F with overcast conditions and light fog.\\n  - [Check the latest updates](https://www.weather.gov/okx/)\\n```\"}"
      ]
     },
     "execution_count": 27,
     "metadata": {},
     "output_type": "execute_result"
    }
   ],
   "source": [
    "agent_executor.invoke({\n",
    "    \"input\": \"Give me the weather update of Mumbai and New York\"\n",
    "})"
   ]
  },
  {
   "cell_type": "code",
   "execution_count": null,
   "id": "e320a066-78b7-46ff-b6fb-171402ce6770",
   "metadata": {},
   "outputs": [],
   "source": []
  },
  {
   "cell_type": "code",
   "execution_count": null,
   "id": "169209ed-01ec-4533-b862-cfd7db057eb9",
   "metadata": {},
   "outputs": [],
   "source": []
  },
  {
   "cell_type": "code",
   "execution_count": null,
   "id": "3e704b17-b99f-4f9e-9285-66cc1f93e00d",
   "metadata": {},
   "outputs": [],
   "source": []
  },
  {
   "cell_type": "code",
   "execution_count": null,
   "id": "a693a9f6-7006-4654-a922-c4b8c759e4a5",
   "metadata": {},
   "outputs": [],
   "source": []
  },
  {
   "cell_type": "code",
   "execution_count": null,
   "id": "ab32e2a4-7383-45cb-b292-73063b8c536b",
   "metadata": {},
   "outputs": [],
   "source": []
  }
 ],
 "metadata": {
  "kernelspec": {
   "display_name": "Python 3 (ipykernel)",
   "language": "python",
   "name": "python3"
  },
  "language_info": {
   "codemirror_mode": {
    "name": "ipython",
    "version": 3
   },
   "file_extension": ".py",
   "mimetype": "text/x-python",
   "name": "python",
   "nbconvert_exporter": "python",
   "pygments_lexer": "ipython3",
   "version": "3.13.0"
  }
 },
 "nbformat": 4,
 "nbformat_minor": 5
}
