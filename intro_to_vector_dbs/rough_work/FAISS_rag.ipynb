{
 "cells": [
  {
   "cell_type": "code",
   "execution_count": 1,
   "id": "f2cfa838-c121-4415-85f7-70daa47b6866",
   "metadata": {},
   "outputs": [
    {
     "data": {
      "text/plain": [
       "True"
      ]
     },
     "execution_count": 1,
     "metadata": {},
     "output_type": "execute_result"
    }
   ],
   "source": [
    "from langchain_core.prompts import PromptTemplate\n",
    "from langchain_openai import ChatOpenAI, OpenAIEmbeddings\n",
    "from langchain_community.vectorstores import FAISS\n",
    "from langchain import hub\n",
    "from langchain_community.document_loaders.text import TextLoader\n",
    "from langchain_text_splitters.character import CharacterTextSplitter\n",
    "from langchain_community.docstore.in_memory import InMemoryDocstore\n",
    "import faiss, os, sys\n",
    "from langchain.chains.combine_documents.stuff import create_stuff_documents_chain\n",
    "sys.path.append(\"'/Users/A118390615/Library/CloudStorage/OneDrive-DeutscheTelekomAG/Projects/COE_Projects/langchain_EM_course1/intro_to_vector_dbs/\")\n",
    "\n",
    "from dotenv import load_dotenv\n",
    "from langchain.chains.retrieval import create_retrieval_chain\n",
    "load_dotenv()"
   ]
  },
  {
   "cell_type": "code",
   "execution_count": null,
   "id": "081d56b0-2027-42d6-9ea2-6ed915734f56",
   "metadata": {},
   "outputs": [],
   "source": []
  },
  {
   "cell_type": "code",
   "execution_count": 2,
   "id": "0fb58434-10df-42a3-9bda-1c2af6fcaa87",
   "metadata": {},
   "outputs": [],
   "source": [
    "os.environ[\"OPENAI_API_KEY\"] = os.environ[\"OPENAI_API_KEY_PERSONAL\"]"
   ]
  },
  {
   "cell_type": "code",
   "execution_count": 16,
   "id": "8dde774b-d2a5-4aa9-8a50-002fd5ecd32a",
   "metadata": {},
   "outputs": [],
   "source": [
    "text = TextLoader(file_path=\"data/mediumArticle.txt\").load()\n",
    "text_splitter = CharacterTextSplitter(chunk_size = 1000, chunk_overlap = 30)\n",
    "documents = text_splitter.split_documents(text)\n",
    "embedding = OpenAIEmbeddings(model = \"text-embedding-3-small\")"
   ]
  },
  {
   "cell_type": "code",
   "execution_count": 26,
   "id": "279ecd03-8a11-4c9d-92c6-ff8b6f5f4312",
   "metadata": {},
   "outputs": [],
   "source": [
    "vector_store = FAISS.from_documents(documents, embedding)"
   ]
  },
  {
   "cell_type": "code",
   "execution_count": 27,
   "id": "65d3dd91-3b65-4ff7-a628-5dae9184b603",
   "metadata": {},
   "outputs": [],
   "source": [
    "llm = ChatOpenAI(model = \"gpt-4o-mini\", temperature = 0)"
   ]
  },
  {
   "cell_type": "code",
   "execution_count": 28,
   "id": "6e731060-0e20-4b0a-95c4-fa09eb1ed3e9",
   "metadata": {},
   "outputs": [],
   "source": [
    "retrieval_prompt = hub.pull(\"langchain-ai/retrieval-qa-chat\")"
   ]
  },
  {
   "cell_type": "code",
   "execution_count": 29,
   "id": "54ecb3b2-db10-41ae-9de9-3e4f9455dc7e",
   "metadata": {},
   "outputs": [],
   "source": [
    "retrieval_stuff_chain = create_stuff_documents_chain(llm = llm, prompt = retrieval_prompt)"
   ]
  },
  {
   "cell_type": "code",
   "execution_count": 30,
   "id": "b3e46426-4ab9-4020-83d0-61d29089abc8",
   "metadata": {},
   "outputs": [],
   "source": [
    "retrieval_chain = create_retrieval_chain(retriever=vector_store.as_retriever(), combine_docs_chain = retrieval_stuff_chain)"
   ]
  },
  {
   "cell_type": "code",
   "execution_count": 31,
   "id": "1e7ea700-5a13-4808-bc84-6b1f12c3e613",
   "metadata": {},
   "outputs": [],
   "source": [
    "sample_result = retrieval_chain.invoke({\"input\": \"What is a vectordb\"})"
   ]
  },
  {
   "cell_type": "code",
   "execution_count": 51,
   "id": "643e8429-59c3-487e-b163-06efc7f34c1b",
   "metadata": {},
   "outputs": [],
   "source": []
  },
  {
   "cell_type": "code",
   "execution_count": 54,
   "id": "8fb4fce7-ed29-44d8-bc3f-21e2287c95e0",
   "metadata": {},
   "outputs": [],
   "source": [
    "rom langchain_community.docstore.in_memory import InMemoryDocstore"
   ]
  },
  {
   "cell_type": "code",
   "execution_count": null,
   "id": "0ba4ccb7-a6c0-4bcf-89fd-53a8b72bb098",
   "metadata": {},
   "outputs": [],
   "source": []
  },
  {
   "cell_type": "code",
   "execution_count": null,
   "id": "a7ac58c9-9b6c-4ee6-91a7-80a3ac47e547",
   "metadata": {},
   "outputs": [],
   "source": []
  },
  {
   "cell_type": "code",
   "execution_count": 4,
   "id": "32875f8d-0e85-4d96-81c6-77310ae16dc9",
   "metadata": {},
   "outputs": [],
   "source": []
  },
  {
   "cell_type": "code",
   "execution_count": 21,
   "id": "5ccfdbbe-0f73-45da-abfb-f4305dca3356",
   "metadata": {},
   "outputs": [
    {
     "name": "stderr",
     "output_type": "stream",
     "text": [
      "/opt/anaconda3/envs/lanchain_env/lib/python3.13/site-packages/langsmith/client.py:272: LangSmithMissingAPIKeyWarning: API key must be provided when using hosted LangSmith API\n",
      "  warnings.warn(\n"
     ]
    }
   ],
   "source": []
  },
  {
   "cell_type": "code",
   "execution_count": null,
   "id": "ae132f2f-034e-4d68-849c-d577a20c8a85",
   "metadata": {},
   "outputs": [],
   "source": [
    "PromptTemplate.from"
   ]
  },
  {
   "cell_type": "code",
   "execution_count": 19,
   "id": "ff4db7b5-262d-45f5-bbd4-acb66c3a08f5",
   "metadata": {},
   "outputs": [
    {
     "name": "stdout",
     "output_type": "stream",
     "text": [
      "Answer any use questions based solely on the context below:\n",
      "\n",
      "<context>\n",
      "{context}\n",
      "</context>\n"
     ]
    }
   ],
   "source": [
    "print(retrieval_prompt.messages[0].prompt.template)"
   ]
  },
  {
   "cell_type": "code",
   "execution_count": null,
   "id": "c42e62f2-90ab-48f5-9773-e143b5793b07",
   "metadata": {},
   "outputs": [],
   "source": []
  },
  {
   "cell_type": "code",
   "execution_count": null,
   "id": "bce07bbf-f5c6-4e6a-9363-a5721120449c",
   "metadata": {},
   "outputs": [],
   "source": []
  }
 ],
 "metadata": {
  "kernelspec": {
   "display_name": "Python 3 (ipykernel)",
   "language": "python",
   "name": "python3"
  },
  "language_info": {
   "codemirror_mode": {
    "name": "ipython",
    "version": 3
   },
   "file_extension": ".py",
   "mimetype": "text/x-python",
   "name": "python",
   "nbconvert_exporter": "python",
   "pygments_lexer": "ipython3",
   "version": "3.13.0"
  }
 },
 "nbformat": 4,
 "nbformat_minor": 5
}
